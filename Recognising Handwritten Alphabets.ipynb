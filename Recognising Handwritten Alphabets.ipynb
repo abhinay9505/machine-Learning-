{
 "cells": [
  {
   "cell_type": "code",
   "execution_count": 3,
   "id": "b05cfbeb",
   "metadata": {},
   "outputs": [],
   "source": [
    "import zipfile\n",
    "with zipfile.ZipFile('data/mnist.zip', 'r') as zipf:\n",
    "    zipf.extractall(path='data/mnist_extracted')"
   ]
  },
  {
   "cell_type": "code",
   "execution_count": 2,
   "id": "cbbaecbd",
   "metadata": {},
   "outputs": [],
   "source": [
    "import os"
   ]
  },
  {
   "cell_type": "code",
   "execution_count": 82,
   "id": "7484ca17",
   "metadata": {},
   "outputs": [],
   "source": [
    "import re\n",
    "import pandas as pd\n",
    "import numpy as np\n",
    "from PIL import Image\n",
    "import matplotlib.pyplot as plt\n",
    "import seaborn as sns"
   ]
  },
  {
   "cell_type": "code",
   "execution_count": 16,
   "id": "a662b26a",
   "metadata": {},
   "outputs": [
    {
     "name": "stdout",
     "output_type": "stream",
     "text": [
      "CPU times: total: 1min 24s\n",
      "Wall time: 34min 27s\n"
     ]
    }
   ],
   "source": [
    "%%time\n",
    "label=[]\n",
    "target=[]\n",
    "file= (r\"C:\\Users\\Abinay Rachakonda\\Desktop\\minst\\data\\mnist_extracted\\New folder\")\n",
    "os.listdir(file)\n",
    "for files in os.listdir(file):\n",
    "    for file_1 in os.listdir(os.path.join(file,files)):\n",
    "        file_2=os.path.join(os.path.join(file,files),file_1)\n",
    "        img=Image.open(file_2)\n",
    "        img1=img.resize((8,8))\n",
    "        img2=np.array(img1).ravel()\n",
    "        label.append(img2)\n",
    "        target.append(files)"
   ]
  },
  {
   "cell_type": "code",
   "execution_count": 22,
   "id": "a6dbf89e",
   "metadata": {},
   "outputs": [
    {
     "data": {
      "text/plain": [
       "['A',\n",
       " 'B',\n",
       " 'C',\n",
       " 'D',\n",
       " 'E',\n",
       " 'F',\n",
       " 'G',\n",
       " 'H',\n",
       " 'I',\n",
       " 'J',\n",
       " 'K',\n",
       " 'L',\n",
       " 'M',\n",
       " 'N',\n",
       " 'O',\n",
       " 'P',\n",
       " 'Q',\n",
       " 'R',\n",
       " 'S',\n",
       " 'T',\n",
       " 'U',\n",
       " 'V',\n",
       " 'W',\n",
       " 'X',\n",
       " 'Y',\n",
       " 'Z']"
      ]
     },
     "execution_count": 22,
     "metadata": {},
     "output_type": "execute_result"
    }
   ],
   "source": [
    "os.listdir(file)"
   ]
  },
  {
   "cell_type": "code",
   "execution_count": 25,
   "id": "1fa540de",
   "metadata": {},
   "outputs": [],
   "source": [
    "df = pd.DataFrame(label,columns=[\"pixel\"+ str(i) for i in range(0,64)])"
   ]
  },
  {
   "cell_type": "code",
   "execution_count": 26,
   "id": "8083f8de",
   "metadata": {},
   "outputs": [
    {
     "data": {
      "text/html": [
       "<div>\n",
       "<style scoped>\n",
       "    .dataframe tbody tr th:only-of-type {\n",
       "        vertical-align: middle;\n",
       "    }\n",
       "\n",
       "    .dataframe tbody tr th {\n",
       "        vertical-align: top;\n",
       "    }\n",
       "\n",
       "    .dataframe thead th {\n",
       "        text-align: right;\n",
       "    }\n",
       "</style>\n",
       "<table border=\"1\" class=\"dataframe\">\n",
       "  <thead>\n",
       "    <tr style=\"text-align: right;\">\n",
       "      <th></th>\n",
       "      <th>pixel0</th>\n",
       "      <th>pixel1</th>\n",
       "      <th>pixel2</th>\n",
       "      <th>pixel3</th>\n",
       "      <th>pixel4</th>\n",
       "      <th>pixel5</th>\n",
       "      <th>pixel6</th>\n",
       "      <th>pixel7</th>\n",
       "      <th>pixel8</th>\n",
       "      <th>pixel9</th>\n",
       "      <th>...</th>\n",
       "      <th>pixel54</th>\n",
       "      <th>pixel55</th>\n",
       "      <th>pixel56</th>\n",
       "      <th>pixel57</th>\n",
       "      <th>pixel58</th>\n",
       "      <th>pixel59</th>\n",
       "      <th>pixel60</th>\n",
       "      <th>pixel61</th>\n",
       "      <th>pixel62</th>\n",
       "      <th>pixel63</th>\n",
       "    </tr>\n",
       "  </thead>\n",
       "  <tbody>\n",
       "    <tr>\n",
       "      <th>0</th>\n",
       "      <td>0</td>\n",
       "      <td>0</td>\n",
       "      <td>0</td>\n",
       "      <td>0</td>\n",
       "      <td>0</td>\n",
       "      <td>0</td>\n",
       "      <td>0</td>\n",
       "      <td>0</td>\n",
       "      <td>0</td>\n",
       "      <td>0</td>\n",
       "      <td>...</td>\n",
       "      <td>0</td>\n",
       "      <td>0</td>\n",
       "      <td>0</td>\n",
       "      <td>0</td>\n",
       "      <td>0</td>\n",
       "      <td>0</td>\n",
       "      <td>0</td>\n",
       "      <td>1</td>\n",
       "      <td>0</td>\n",
       "      <td>0</td>\n",
       "    </tr>\n",
       "    <tr>\n",
       "      <th>1</th>\n",
       "      <td>0</td>\n",
       "      <td>0</td>\n",
       "      <td>0</td>\n",
       "      <td>0</td>\n",
       "      <td>0</td>\n",
       "      <td>0</td>\n",
       "      <td>0</td>\n",
       "      <td>0</td>\n",
       "      <td>0</td>\n",
       "      <td>0</td>\n",
       "      <td>...</td>\n",
       "      <td>0</td>\n",
       "      <td>0</td>\n",
       "      <td>0</td>\n",
       "      <td>0</td>\n",
       "      <td>0</td>\n",
       "      <td>0</td>\n",
       "      <td>2</td>\n",
       "      <td>0</td>\n",
       "      <td>0</td>\n",
       "      <td>0</td>\n",
       "    </tr>\n",
       "    <tr>\n",
       "      <th>2</th>\n",
       "      <td>0</td>\n",
       "      <td>0</td>\n",
       "      <td>1</td>\n",
       "      <td>0</td>\n",
       "      <td>0</td>\n",
       "      <td>0</td>\n",
       "      <td>0</td>\n",
       "      <td>0</td>\n",
       "      <td>0</td>\n",
       "      <td>0</td>\n",
       "      <td>...</td>\n",
       "      <td>15</td>\n",
       "      <td>0</td>\n",
       "      <td>0</td>\n",
       "      <td>0</td>\n",
       "      <td>0</td>\n",
       "      <td>0</td>\n",
       "      <td>0</td>\n",
       "      <td>0</td>\n",
       "      <td>0</td>\n",
       "      <td>0</td>\n",
       "    </tr>\n",
       "    <tr>\n",
       "      <th>3</th>\n",
       "      <td>0</td>\n",
       "      <td>0</td>\n",
       "      <td>0</td>\n",
       "      <td>0</td>\n",
       "      <td>0</td>\n",
       "      <td>0</td>\n",
       "      <td>0</td>\n",
       "      <td>0</td>\n",
       "      <td>0</td>\n",
       "      <td>0</td>\n",
       "      <td>...</td>\n",
       "      <td>24</td>\n",
       "      <td>0</td>\n",
       "      <td>0</td>\n",
       "      <td>0</td>\n",
       "      <td>0</td>\n",
       "      <td>0</td>\n",
       "      <td>0</td>\n",
       "      <td>0</td>\n",
       "      <td>1</td>\n",
       "      <td>0</td>\n",
       "    </tr>\n",
       "    <tr>\n",
       "      <th>4</th>\n",
       "      <td>0</td>\n",
       "      <td>0</td>\n",
       "      <td>0</td>\n",
       "      <td>1</td>\n",
       "      <td>0</td>\n",
       "      <td>0</td>\n",
       "      <td>0</td>\n",
       "      <td>0</td>\n",
       "      <td>0</td>\n",
       "      <td>0</td>\n",
       "      <td>...</td>\n",
       "      <td>29</td>\n",
       "      <td>0</td>\n",
       "      <td>0</td>\n",
       "      <td>0</td>\n",
       "      <td>0</td>\n",
       "      <td>0</td>\n",
       "      <td>0</td>\n",
       "      <td>0</td>\n",
       "      <td>0</td>\n",
       "      <td>0</td>\n",
       "    </tr>\n",
       "  </tbody>\n",
       "</table>\n",
       "<p>5 rows × 64 columns</p>\n",
       "</div>"
      ],
      "text/plain": [
       "   pixel0  pixel1  pixel2  pixel3  pixel4  pixel5  pixel6  pixel7  pixel8  \\\n",
       "0       0       0       0       0       0       0       0       0       0   \n",
       "1       0       0       0       0       0       0       0       0       0   \n",
       "2       0       0       1       0       0       0       0       0       0   \n",
       "3       0       0       0       0       0       0       0       0       0   \n",
       "4       0       0       0       1       0       0       0       0       0   \n",
       "\n",
       "   pixel9  ...  pixel54  pixel55  pixel56  pixel57  pixel58  pixel59  pixel60  \\\n",
       "0       0  ...        0        0        0        0        0        0        0   \n",
       "1       0  ...        0        0        0        0        0        0        2   \n",
       "2       0  ...       15        0        0        0        0        0        0   \n",
       "3       0  ...       24        0        0        0        0        0        0   \n",
       "4       0  ...       29        0        0        0        0        0        0   \n",
       "\n",
       "   pixel61  pixel62  pixel63  \n",
       "0        1        0        0  \n",
       "1        0        0        0  \n",
       "2        0        0        0  \n",
       "3        0        1        0  \n",
       "4        0        0        0  \n",
       "\n",
       "[5 rows x 64 columns]"
      ]
     },
     "execution_count": 26,
     "metadata": {},
     "output_type": "execute_result"
    }
   ],
   "source": [
    "df.head()"
   ]
  },
  {
   "cell_type": "code",
   "execution_count": 27,
   "id": "cda86402",
   "metadata": {},
   "outputs": [],
   "source": [
    "df[\"label\"] = target"
   ]
  },
  {
   "cell_type": "code",
   "execution_count": 28,
   "id": "a4a7864b",
   "metadata": {},
   "outputs": [
    {
     "data": {
      "text/html": [
       "<div>\n",
       "<style scoped>\n",
       "    .dataframe tbody tr th:only-of-type {\n",
       "        vertical-align: middle;\n",
       "    }\n",
       "\n",
       "    .dataframe tbody tr th {\n",
       "        vertical-align: top;\n",
       "    }\n",
       "\n",
       "    .dataframe thead th {\n",
       "        text-align: right;\n",
       "    }\n",
       "</style>\n",
       "<table border=\"1\" class=\"dataframe\">\n",
       "  <thead>\n",
       "    <tr style=\"text-align: right;\">\n",
       "      <th></th>\n",
       "      <th>pixel0</th>\n",
       "      <th>pixel1</th>\n",
       "      <th>pixel2</th>\n",
       "      <th>pixel3</th>\n",
       "      <th>pixel4</th>\n",
       "      <th>pixel5</th>\n",
       "      <th>pixel6</th>\n",
       "      <th>pixel7</th>\n",
       "      <th>pixel8</th>\n",
       "      <th>pixel9</th>\n",
       "      <th>...</th>\n",
       "      <th>pixel55</th>\n",
       "      <th>pixel56</th>\n",
       "      <th>pixel57</th>\n",
       "      <th>pixel58</th>\n",
       "      <th>pixel59</th>\n",
       "      <th>pixel60</th>\n",
       "      <th>pixel61</th>\n",
       "      <th>pixel62</th>\n",
       "      <th>pixel63</th>\n",
       "      <th>label</th>\n",
       "    </tr>\n",
       "  </thead>\n",
       "  <tbody>\n",
       "    <tr>\n",
       "      <th>0</th>\n",
       "      <td>0</td>\n",
       "      <td>0</td>\n",
       "      <td>0</td>\n",
       "      <td>0</td>\n",
       "      <td>0</td>\n",
       "      <td>0</td>\n",
       "      <td>0</td>\n",
       "      <td>0</td>\n",
       "      <td>0</td>\n",
       "      <td>0</td>\n",
       "      <td>...</td>\n",
       "      <td>0</td>\n",
       "      <td>0</td>\n",
       "      <td>0</td>\n",
       "      <td>0</td>\n",
       "      <td>0</td>\n",
       "      <td>0</td>\n",
       "      <td>1</td>\n",
       "      <td>0</td>\n",
       "      <td>0</td>\n",
       "      <td>A</td>\n",
       "    </tr>\n",
       "    <tr>\n",
       "      <th>1</th>\n",
       "      <td>0</td>\n",
       "      <td>0</td>\n",
       "      <td>0</td>\n",
       "      <td>0</td>\n",
       "      <td>0</td>\n",
       "      <td>0</td>\n",
       "      <td>0</td>\n",
       "      <td>0</td>\n",
       "      <td>0</td>\n",
       "      <td>0</td>\n",
       "      <td>...</td>\n",
       "      <td>0</td>\n",
       "      <td>0</td>\n",
       "      <td>0</td>\n",
       "      <td>0</td>\n",
       "      <td>0</td>\n",
       "      <td>2</td>\n",
       "      <td>0</td>\n",
       "      <td>0</td>\n",
       "      <td>0</td>\n",
       "      <td>A</td>\n",
       "    </tr>\n",
       "    <tr>\n",
       "      <th>2</th>\n",
       "      <td>0</td>\n",
       "      <td>0</td>\n",
       "      <td>1</td>\n",
       "      <td>0</td>\n",
       "      <td>0</td>\n",
       "      <td>0</td>\n",
       "      <td>0</td>\n",
       "      <td>0</td>\n",
       "      <td>0</td>\n",
       "      <td>0</td>\n",
       "      <td>...</td>\n",
       "      <td>0</td>\n",
       "      <td>0</td>\n",
       "      <td>0</td>\n",
       "      <td>0</td>\n",
       "      <td>0</td>\n",
       "      <td>0</td>\n",
       "      <td>0</td>\n",
       "      <td>0</td>\n",
       "      <td>0</td>\n",
       "      <td>A</td>\n",
       "    </tr>\n",
       "    <tr>\n",
       "      <th>3</th>\n",
       "      <td>0</td>\n",
       "      <td>0</td>\n",
       "      <td>0</td>\n",
       "      <td>0</td>\n",
       "      <td>0</td>\n",
       "      <td>0</td>\n",
       "      <td>0</td>\n",
       "      <td>0</td>\n",
       "      <td>0</td>\n",
       "      <td>0</td>\n",
       "      <td>...</td>\n",
       "      <td>0</td>\n",
       "      <td>0</td>\n",
       "      <td>0</td>\n",
       "      <td>0</td>\n",
       "      <td>0</td>\n",
       "      <td>0</td>\n",
       "      <td>0</td>\n",
       "      <td>1</td>\n",
       "      <td>0</td>\n",
       "      <td>A</td>\n",
       "    </tr>\n",
       "    <tr>\n",
       "      <th>4</th>\n",
       "      <td>0</td>\n",
       "      <td>0</td>\n",
       "      <td>0</td>\n",
       "      <td>1</td>\n",
       "      <td>0</td>\n",
       "      <td>0</td>\n",
       "      <td>0</td>\n",
       "      <td>0</td>\n",
       "      <td>0</td>\n",
       "      <td>0</td>\n",
       "      <td>...</td>\n",
       "      <td>0</td>\n",
       "      <td>0</td>\n",
       "      <td>0</td>\n",
       "      <td>0</td>\n",
       "      <td>0</td>\n",
       "      <td>0</td>\n",
       "      <td>0</td>\n",
       "      <td>0</td>\n",
       "      <td>0</td>\n",
       "      <td>A</td>\n",
       "    </tr>\n",
       "  </tbody>\n",
       "</table>\n",
       "<p>5 rows × 65 columns</p>\n",
       "</div>"
      ],
      "text/plain": [
       "   pixel0  pixel1  pixel2  pixel3  pixel4  pixel5  pixel6  pixel7  pixel8  \\\n",
       "0       0       0       0       0       0       0       0       0       0   \n",
       "1       0       0       0       0       0       0       0       0       0   \n",
       "2       0       0       1       0       0       0       0       0       0   \n",
       "3       0       0       0       0       0       0       0       0       0   \n",
       "4       0       0       0       1       0       0       0       0       0   \n",
       "\n",
       "   pixel9  ...  pixel55  pixel56  pixel57  pixel58  pixel59  pixel60  pixel61  \\\n",
       "0       0  ...        0        0        0        0        0        0        1   \n",
       "1       0  ...        0        0        0        0        0        2        0   \n",
       "2       0  ...        0        0        0        0        0        0        0   \n",
       "3       0  ...        0        0        0        0        0        0        0   \n",
       "4       0  ...        0        0        0        0        0        0        0   \n",
       "\n",
       "   pixel62  pixel63  label  \n",
       "0        0        0      A  \n",
       "1        0        0      A  \n",
       "2        0        0      A  \n",
       "3        1        0      A  \n",
       "4        0        0      A  \n",
       "\n",
       "[5 rows x 65 columns]"
      ]
     },
     "execution_count": 28,
     "metadata": {},
     "output_type": "execute_result"
    }
   ],
   "source": [
    "df.head()"
   ]
  },
  {
   "cell_type": "code",
   "execution_count": 29,
   "id": "5d854d78",
   "metadata": {},
   "outputs": [],
   "source": [
    "df.to_csv(' Recognising Handwritten Alphabets.csv')"
   ]
  },
  {
   "cell_type": "code",
   "execution_count": 32,
   "id": "da61b3fe",
   "metadata": {},
   "outputs": [
    {
     "data": {
      "text/plain": [
       "(372451, 65)"
      ]
     },
     "execution_count": 32,
     "metadata": {},
     "output_type": "execute_result"
    }
   ],
   "source": [
    "df.shape"
   ]
  },
  {
   "cell_type": "code",
   "execution_count": 30,
   "id": "7aabeb78",
   "metadata": {},
   "outputs": [
    {
     "name": "stdout",
     "output_type": "stream",
     "text": [
      "<class 'pandas.core.frame.DataFrame'>\n",
      "RangeIndex: 372451 entries, 0 to 372450\n",
      "Data columns (total 65 columns):\n",
      " #   Column   Non-Null Count   Dtype \n",
      "---  ------   --------------   ----- \n",
      " 0   pixel0   372451 non-null  uint8 \n",
      " 1   pixel1   372451 non-null  uint8 \n",
      " 2   pixel2   372451 non-null  uint8 \n",
      " 3   pixel3   372451 non-null  uint8 \n",
      " 4   pixel4   372451 non-null  uint8 \n",
      " 5   pixel5   372451 non-null  uint8 \n",
      " 6   pixel6   372451 non-null  uint8 \n",
      " 7   pixel7   372451 non-null  uint8 \n",
      " 8   pixel8   372451 non-null  uint8 \n",
      " 9   pixel9   372451 non-null  uint8 \n",
      " 10  pixel10  372451 non-null  uint8 \n",
      " 11  pixel11  372451 non-null  uint8 \n",
      " 12  pixel12  372451 non-null  uint8 \n",
      " 13  pixel13  372451 non-null  uint8 \n",
      " 14  pixel14  372451 non-null  uint8 \n",
      " 15  pixel15  372451 non-null  uint8 \n",
      " 16  pixel16  372451 non-null  uint8 \n",
      " 17  pixel17  372451 non-null  uint8 \n",
      " 18  pixel18  372451 non-null  uint8 \n",
      " 19  pixel19  372451 non-null  uint8 \n",
      " 20  pixel20  372451 non-null  uint8 \n",
      " 21  pixel21  372451 non-null  uint8 \n",
      " 22  pixel22  372451 non-null  uint8 \n",
      " 23  pixel23  372451 non-null  uint8 \n",
      " 24  pixel24  372451 non-null  uint8 \n",
      " 25  pixel25  372451 non-null  uint8 \n",
      " 26  pixel26  372451 non-null  uint8 \n",
      " 27  pixel27  372451 non-null  uint8 \n",
      " 28  pixel28  372451 non-null  uint8 \n",
      " 29  pixel29  372451 non-null  uint8 \n",
      " 30  pixel30  372451 non-null  uint8 \n",
      " 31  pixel31  372451 non-null  uint8 \n",
      " 32  pixel32  372451 non-null  uint8 \n",
      " 33  pixel33  372451 non-null  uint8 \n",
      " 34  pixel34  372451 non-null  uint8 \n",
      " 35  pixel35  372451 non-null  uint8 \n",
      " 36  pixel36  372451 non-null  uint8 \n",
      " 37  pixel37  372451 non-null  uint8 \n",
      " 38  pixel38  372451 non-null  uint8 \n",
      " 39  pixel39  372451 non-null  uint8 \n",
      " 40  pixel40  372451 non-null  uint8 \n",
      " 41  pixel41  372451 non-null  uint8 \n",
      " 42  pixel42  372451 non-null  uint8 \n",
      " 43  pixel43  372451 non-null  uint8 \n",
      " 44  pixel44  372451 non-null  uint8 \n",
      " 45  pixel45  372451 non-null  uint8 \n",
      " 46  pixel46  372451 non-null  uint8 \n",
      " 47  pixel47  372451 non-null  uint8 \n",
      " 48  pixel48  372451 non-null  uint8 \n",
      " 49  pixel49  372451 non-null  uint8 \n",
      " 50  pixel50  372451 non-null  uint8 \n",
      " 51  pixel51  372451 non-null  uint8 \n",
      " 52  pixel52  372451 non-null  uint8 \n",
      " 53  pixel53  372451 non-null  uint8 \n",
      " 54  pixel54  372451 non-null  uint8 \n",
      " 55  pixel55  372451 non-null  uint8 \n",
      " 56  pixel56  372451 non-null  uint8 \n",
      " 57  pixel57  372451 non-null  uint8 \n",
      " 58  pixel58  372451 non-null  uint8 \n",
      " 59  pixel59  372451 non-null  uint8 \n",
      " 60  pixel60  372451 non-null  uint8 \n",
      " 61  pixel61  372451 non-null  uint8 \n",
      " 62  pixel62  372451 non-null  uint8 \n",
      " 63  pixel63  372451 non-null  uint8 \n",
      " 64  label    372451 non-null  object\n",
      "dtypes: object(1), uint8(64)\n",
      "memory usage: 25.6+ MB\n"
     ]
    }
   ],
   "source": [
    "df.info()"
   ]
  },
  {
   "cell_type": "code",
   "execution_count": 31,
   "id": "39280abe",
   "metadata": {},
   "outputs": [
    {
     "data": {
      "text/plain": [
       "O    57825\n",
       "S    48419\n",
       "U    29008\n",
       "C    23409\n",
       "T    22495\n",
       "P    19341\n",
       "N    19010\n",
       "A    13870\n",
       "M    12336\n",
       "L    11586\n",
       "R    11566\n",
       "E    11440\n",
       "Y    10859\n",
       "W    10784\n",
       "D    10134\n",
       "B     8668\n",
       "J     8493\n",
       "H     7218\n",
       "X     6272\n",
       "Z     6076\n",
       "Q     5812\n",
       "G     5762\n",
       "K     5603\n",
       "V     4182\n",
       "F     1163\n",
       "I     1120\n",
       "Name: label, dtype: int64"
      ]
     },
     "execution_count": 31,
     "metadata": {},
     "output_type": "execute_result"
    }
   ],
   "source": [
    "df['label'].value_counts()"
   ]
  },
  {
   "cell_type": "code",
   "execution_count": 33,
   "id": "a3f290f6",
   "metadata": {},
   "outputs": [],
   "source": [
    "x=df.drop(\"label\",axis=1)\n",
    "y=df[\"label\"]"
   ]
  },
  {
   "cell_type": "code",
   "execution_count": 37,
   "id": "6cf95bdc",
   "metadata": {},
   "outputs": [],
   "source": [
    "from sklearn.model_selection import train_test_split\n",
    "X_train,X_test,y_train,y_test=train_test_split(x,y,test_size=0.30,random_state=0)"
   ]
  },
  {
   "cell_type": "code",
   "execution_count": 42,
   "id": "bfe3b658",
   "metadata": {},
   "outputs": [
    {
     "name": "stderr",
     "output_type": "stream",
     "text": [
      "C:\\Users\\Abinay Rachakonda\\anaconda\\lib\\site-packages\\sklearn\\linear_model\\_logistic.py:444: ConvergenceWarning: lbfgs failed to converge (status=1):\n",
      "STOP: TOTAL NO. of ITERATIONS REACHED LIMIT.\n",
      "\n",
      "Increase the number of iterations (max_iter) or scale the data as shown in:\n",
      "    https://scikit-learn.org/stable/modules/preprocessing.html\n",
      "Please also refer to the documentation for alternative solver options:\n",
      "    https://scikit-learn.org/stable/modules/linear_model.html#logistic-regression\n",
      "  n_iter_i = _check_optimize_result(\n"
     ]
    },
    {
     "data": {
      "text/html": [
       "<style>#sk-container-id-2 {color: black;background-color: white;}#sk-container-id-2 pre{padding: 0;}#sk-container-id-2 div.sk-toggleable {background-color: white;}#sk-container-id-2 label.sk-toggleable__label {cursor: pointer;display: block;width: 100%;margin-bottom: 0;padding: 0.3em;box-sizing: border-box;text-align: center;}#sk-container-id-2 label.sk-toggleable__label-arrow:before {content: \"▸\";float: left;margin-right: 0.25em;color: #696969;}#sk-container-id-2 label.sk-toggleable__label-arrow:hover:before {color: black;}#sk-container-id-2 div.sk-estimator:hover label.sk-toggleable__label-arrow:before {color: black;}#sk-container-id-2 div.sk-toggleable__content {max-height: 0;max-width: 0;overflow: hidden;text-align: left;background-color: #f0f8ff;}#sk-container-id-2 div.sk-toggleable__content pre {margin: 0.2em;color: black;border-radius: 0.25em;background-color: #f0f8ff;}#sk-container-id-2 input.sk-toggleable__control:checked~div.sk-toggleable__content {max-height: 200px;max-width: 100%;overflow: auto;}#sk-container-id-2 input.sk-toggleable__control:checked~label.sk-toggleable__label-arrow:before {content: \"▾\";}#sk-container-id-2 div.sk-estimator input.sk-toggleable__control:checked~label.sk-toggleable__label {background-color: #d4ebff;}#sk-container-id-2 div.sk-label input.sk-toggleable__control:checked~label.sk-toggleable__label {background-color: #d4ebff;}#sk-container-id-2 input.sk-hidden--visually {border: 0;clip: rect(1px 1px 1px 1px);clip: rect(1px, 1px, 1px, 1px);height: 1px;margin: -1px;overflow: hidden;padding: 0;position: absolute;width: 1px;}#sk-container-id-2 div.sk-estimator {font-family: monospace;background-color: #f0f8ff;border: 1px dotted black;border-radius: 0.25em;box-sizing: border-box;margin-bottom: 0.5em;}#sk-container-id-2 div.sk-estimator:hover {background-color: #d4ebff;}#sk-container-id-2 div.sk-parallel-item::after {content: \"\";width: 100%;border-bottom: 1px solid gray;flex-grow: 1;}#sk-container-id-2 div.sk-label:hover label.sk-toggleable__label {background-color: #d4ebff;}#sk-container-id-2 div.sk-serial::before {content: \"\";position: absolute;border-left: 1px solid gray;box-sizing: border-box;top: 0;bottom: 0;left: 50%;z-index: 0;}#sk-container-id-2 div.sk-serial {display: flex;flex-direction: column;align-items: center;background-color: white;padding-right: 0.2em;padding-left: 0.2em;position: relative;}#sk-container-id-2 div.sk-item {position: relative;z-index: 1;}#sk-container-id-2 div.sk-parallel {display: flex;align-items: stretch;justify-content: center;background-color: white;position: relative;}#sk-container-id-2 div.sk-item::before, #sk-container-id-2 div.sk-parallel-item::before {content: \"\";position: absolute;border-left: 1px solid gray;box-sizing: border-box;top: 0;bottom: 0;left: 50%;z-index: -1;}#sk-container-id-2 div.sk-parallel-item {display: flex;flex-direction: column;z-index: 1;position: relative;background-color: white;}#sk-container-id-2 div.sk-parallel-item:first-child::after {align-self: flex-end;width: 50%;}#sk-container-id-2 div.sk-parallel-item:last-child::after {align-self: flex-start;width: 50%;}#sk-container-id-2 div.sk-parallel-item:only-child::after {width: 0;}#sk-container-id-2 div.sk-dashed-wrapped {border: 1px dashed gray;margin: 0 0.4em 0.5em 0.4em;box-sizing: border-box;padding-bottom: 0.4em;background-color: white;}#sk-container-id-2 div.sk-label label {font-family: monospace;font-weight: bold;display: inline-block;line-height: 1.2em;}#sk-container-id-2 div.sk-label-container {text-align: center;}#sk-container-id-2 div.sk-container {/* jupyter's `normalize.less` sets `[hidden] { display: none; }` but bootstrap.min.css set `[hidden] { display: none !important; }` so we also need the `!important` here to be able to override the default hidden behavior on the sphinx rendered scikit-learn.org. See: https://github.com/scikit-learn/scikit-learn/issues/21755 */display: inline-block !important;position: relative;}#sk-container-id-2 div.sk-text-repr-fallback {display: none;}</style><div id=\"sk-container-id-2\" class=\"sk-top-container\"><div class=\"sk-text-repr-fallback\"><pre>LogisticRegression()</pre><b>In a Jupyter environment, please rerun this cell to show the HTML representation or trust the notebook. <br />On GitHub, the HTML representation is unable to render, please try loading this page with nbviewer.org.</b></div><div class=\"sk-container\" hidden><div class=\"sk-item\"><div class=\"sk-estimator sk-toggleable\"><input class=\"sk-toggleable__control sk-hidden--visually\" id=\"sk-estimator-id-2\" type=\"checkbox\" checked><label for=\"sk-estimator-id-2\" class=\"sk-toggleable__label sk-toggleable__label-arrow\">LogisticRegression</label><div class=\"sk-toggleable__content\"><pre>LogisticRegression()</pre></div></div></div></div></div>"
      ],
      "text/plain": [
       "LogisticRegression()"
      ]
     },
     "execution_count": 42,
     "metadata": {},
     "output_type": "execute_result"
    }
   ],
   "source": [
    "from sklearn.linear_model import LogisticRegression\n",
    "classifier = LogisticRegression()\n",
    "classifier.fit(X_train,y_train)"
   ]
  },
  {
   "cell_type": "code",
   "execution_count": 43,
   "id": "56104390",
   "metadata": {},
   "outputs": [],
   "source": [
    "from sklearn.metrics import accuracy_score,confusion_matrix,precision_score, recall_score,classification_report"
   ]
  },
  {
   "cell_type": "code",
   "execution_count": 45,
   "id": "21c569b9",
   "metadata": {},
   "outputs": [
    {
     "data": {
      "text/plain": [
       "array(['O', 'U', 'E', ..., 'A', 'T', 'S'], dtype=object)"
      ]
     },
     "execution_count": 45,
     "metadata": {},
     "output_type": "execute_result"
    }
   ],
   "source": [
    "y_pred_logistic=classifier.predict(X_test)\n",
    "y_pred_logistic"
   ]
  },
  {
   "cell_type": "code",
   "execution_count": 47,
   "id": "02cca5fe",
   "metadata": {},
   "outputs": [
    {
     "data": {
      "text/plain": [
       "0.851050690914298"
      ]
     },
     "execution_count": 47,
     "metadata": {},
     "output_type": "execute_result"
    }
   ],
   "source": [
    "accuracy_score(y_test,y_pred_logistic)"
   ]
  },
  {
   "cell_type": "code",
   "execution_count": 135,
   "id": "fcbaef36",
   "metadata": {},
   "outputs": [
    {
     "data": {
      "text/plain": [
       "<AxesSubplot:xlabel='label', ylabel='Count'>"
      ]
     },
     "execution_count": 135,
     "metadata": {},
     "output_type": "execute_result"
    },
    {
     "data": {
      "image/png": "[encoded data removed]",
      "text/plain": [
       "<Figure size 640x480 with 1 Axes>"
      ]
     },
     "metadata": {},
     "output_type": "display_data"
    }
   ],
   "source": [
    "sns.histplot(y_test,color='blue',alpha=0.5)\n",
    "sns.histplot(y_pred_logistic,color='pink',alpha=0.5)"
   ]
  },
  {
   "cell_type": "code",
   "execution_count": 46,
   "id": "ba944e72",
   "metadata": {},
   "outputs": [
    {
     "data": {
      "text/plain": [
       "array([[ 3435,    18,     1,     9,    22,     0,     8,   106,     0,\n",
       "            1,    29,     3,   128,    93,    34,    68,    19,    53,\n",
       "           21,     1,    43,     6,     8,    48,    43,     7],\n",
       "       [   28,  1959,     8,    41,   105,     0,     5,    16,     0,\n",
       "           20,     1,     0,    24,    16,   119,     7,     3,    34,\n",
       "          168,     1,    38,     0,     3,    11,    20,    29],\n",
       "       [    1,    19,  6182,     0,   101,     1,    68,     3,     3,\n",
       "            9,    20,    58,     1,    47,   269,    52,     4,    36,\n",
       "           63,    13,    79,     0,     4,     1,    13,     1],\n",
       "       [    9,    32,     0,  2225,    12,     0,     0,     2,     0,\n",
       "           27,     1,     4,    28,     4,   486,    29,     7,     2,\n",
       "           66,     1,    36,     1,     3,     6,     5,    19],\n",
       "       [   18,    54,   262,     9,  2443,     6,    36,    12,     0,\n",
       "           19,    58,    39,     0,    22,    37,    15,     3,   124,\n",
       "          100,     1,    67,     0,    12,     3,    24,    38],\n",
       "       [    4,     0,     0,     0,     9,   278,     0,     0,     0,\n",
       "            0,     0,     0,     0,     0,     0,    23,     0,     1,\n",
       "            1,    33,     0,     0,     0,     0,     2,     0],\n",
       "       [   15,    23,    43,     4,    25,     0,  1212,     1,     0,\n",
       "            4,     0,    10,     2,     7,    59,     1,    62,     5,\n",
       "          179,     3,    67,     0,    15,     0,     0,     0],\n",
       "       [  126,    13,     1,     2,    20,     0,     5,  1394,     0,\n",
       "            5,     3,     1,    98,   269,     3,    15,     5,    21,\n",
       "           10,     0,    87,     6,    24,    22,    37,     5],\n",
       "       [    0,     0,     2,     4,     4,     0,     0,     0,   277,\n",
       "           17,     0,     0,     0,     0,     0,     3,     1,     0,\n",
       "           28,     2,     0,     0,     0,     1,     5,     6],\n",
       "       [    2,    14,    31,    50,    27,     0,     8,     0,    43,\n",
       "         1685,     2,     7,     7,     3,    21,    15,    12,     6,\n",
       "          296,    75,   178,     1,     1,     5,    22,    27],\n",
       "       [    7,     9,    44,     0,    72,     1,     1,    13,     0,\n",
       "            0,  1186,    27,     6,    43,     1,     2,     0,   132,\n",
       "            5,     7,     6,     7,    12,    58,     9,     2],\n",
       "       [    1,     2,    41,     3,    14,     0,    16,     0,     4,\n",
       "            8,    14,  3232,     0,     7,     0,     0,     0,     9,\n",
       "            8,     1,    32,     5,     7,    23,     9,    23],\n",
       "       [   95,     5,     0,     2,     5,     1,     3,    65,     0,\n",
       "            0,     3,     0,  3250,   116,    26,    20,     3,    18,\n",
       "            2,    27,    31,     1,     6,     2,    13,     0],\n",
       "       [  201,    17,    12,    16,    35,     0,     2,   164,     0,\n",
       "            2,    33,    28,   160,  4479,    17,    16,     7,    38,\n",
       "            4,     2,   218,    23,   234,    34,    17,     1],\n",
       "       [   23,    45,   113,   134,    35,     0,     7,     6,     0,\n",
       "           16,     0,     2,    55,    53, 16800,    20,    13,    12,\n",
       "           96,     1,   105,     2,    18,     0,     5,     8],\n",
       "       [   24,     0,     2,    67,    24,     2,     1,     4,     0,\n",
       "            2,     1,     0,     1,    12,    23,  5217,     5,    33,\n",
       "            8,   195,     5,     0,     4,     3,   110,     1],\n",
       "       [   17,     2,     7,     4,    14,     0,    43,     0,     0,\n",
       "            2,     0,     0,     4,     6,   155,    51,  1312,    53,\n",
       "           28,     4,    84,     0,     4,     1,     1,     2],\n",
       "       [  116,    52,    55,     6,   180,     0,     1,     5,     0,\n",
       "            3,    99,     4,    28,    62,     3,    75,    41,  2611,\n",
       "            4,    10,    18,     0,     6,    45,    19,    23],\n",
       "       [   12,    92,   110,    79,    60,     1,    64,     1,    13,\n",
       "          281,    18,    17,     7,    13,   142,    22,    36,    59,\n",
       "        13203,    13,    52,     1,    13,    33,    23,    16],\n",
       "       [   14,     0,     8,     3,     6,    19,     1,     9,     1,\n",
       "           18,    12,     0,    29,     3,     2,   160,    10,     5,\n",
       "            9,  6212,     0,     0,     2,     2,   143,     3],\n",
       "       [   25,     7,    18,    60,    68,     0,    34,    69,     0,\n",
       "           16,    13,    51,    16,   169,   232,     0,    25,    59,\n",
       "           37,     2,  7455,    32,   205,     6,     4,    13],\n",
       "       [    0,     0,     0,     0,    17,     1,     0,     5,     0,\n",
       "            0,    13,     0,     2,    39,     0,     0,     0,     0,\n",
       "            2,     0,    52,  1073,    17,     1,     8,     0],\n",
       "       [    8,     8,     4,    10,    36,     0,     3,    27,     0,\n",
       "            4,     7,    34,    27,   312,    11,     3,     6,     4,\n",
       "            4,     1,   273,    15,  2421,     4,     5,     0],\n",
       "       [   37,    11,     0,     0,    11,     0,     0,     1,     0,\n",
       "            2,    47,    12,     4,     5,     1,     0,     2,    32,\n",
       "           40,     1,    11,    20,    17,  1514,   105,    21],\n",
       "       [    8,     6,     1,     3,     6,     0,     1,    36,     4,\n",
       "           82,    26,     3,     5,    14,     7,   100,     3,     1,\n",
       "           44,   226,     9,    45,     5,    37,  2598,     5],\n",
       "       [   11,    42,     3,    26,    38,     0,     4,     3,     8,\n",
       "           84,     3,    18,     6,    22,     8,     6,    12,    27,\n",
       "           36,     2,     5,     0,     2,    28,     9,  1440]],\n",
       "      dtype=int64)"
      ]
     },
     "execution_count": 46,
     "metadata": {},
     "output_type": "execute_result"
    }
   ],
   "source": [
    "confusion_matrix(y_test,y_pred_logistic)"
   ]
  },
  {
   "cell_type": "code",
   "execution_count": 48,
   "id": "8cd7fe5d",
   "metadata": {},
   "outputs": [
    {
     "name": "stdout",
     "output_type": "stream",
     "text": [
      "              precision    recall  f1-score   support\n",
      "\n",
      "           A       0.81      0.82      0.81      4204\n",
      "           B       0.81      0.74      0.77      2656\n",
      "           C       0.89      0.88      0.88      7048\n",
      "           D       0.81      0.74      0.77      3005\n",
      "           E       0.72      0.72      0.72      3402\n",
      "           F       0.90      0.79      0.84       351\n",
      "           G       0.80      0.70      0.74      1737\n",
      "           H       0.72      0.64      0.68      2172\n",
      "           I       0.78      0.79      0.79       350\n",
      "           J       0.73      0.66      0.70      2538\n",
      "           K       0.75      0.72      0.73      1650\n",
      "           L       0.91      0.93      0.92      3459\n",
      "           M       0.84      0.88      0.86      3694\n",
      "           N       0.77      0.78      0.77      5760\n",
      "           O       0.91      0.96      0.93     17569\n",
      "           P       0.88      0.91      0.89      5744\n",
      "           Q       0.82      0.73      0.78      1794\n",
      "           R       0.77      0.75      0.76      3466\n",
      "           S       0.91      0.92      0.92     14381\n",
      "           T       0.91      0.93      0.92      6671\n",
      "           U       0.83      0.87      0.85      8616\n",
      "           V       0.87      0.87      0.87      1230\n",
      "           W       0.80      0.75      0.77      3227\n",
      "           X       0.80      0.80      0.80      1894\n",
      "           Y       0.80      0.79      0.80      3275\n",
      "           Z       0.85      0.78      0.82      1843\n",
      "\n",
      "    accuracy                           0.85    111736\n",
      "   macro avg       0.82      0.80      0.81    111736\n",
      "weighted avg       0.85      0.85      0.85    111736\n",
      "\n"
     ]
    }
   ],
   "source": [
    "print(classification_report(y_test,y_pred_logistic))"
   ]
  },
  {
   "cell_type": "code",
   "execution_count": 50,
   "id": "00a492b0",
   "metadata": {},
   "outputs": [
    {
     "data": {
      "text/html": [
       "<style>#sk-container-id-4 {color: black;background-color: white;}#sk-container-id-4 pre{padding: 0;}#sk-container-id-4 div.sk-toggleable {background-color: white;}#sk-container-id-4 label.sk-toggleable__label {cursor: pointer;display: block;width: 100%;margin-bottom: 0;padding: 0.3em;box-sizing: border-box;text-align: center;}#sk-container-id-4 label.sk-toggleable__label-arrow:before {content: \"▸\";float: left;margin-right: 0.25em;color: #696969;}#sk-container-id-4 label.sk-toggleable__label-arrow:hover:before {color: black;}#sk-container-id-4 div.sk-estimator:hover label.sk-toggleable__label-arrow:before {color: black;}#sk-container-id-4 div.sk-toggleable__content {max-height: 0;max-width: 0;overflow: hidden;text-align: left;background-color: #f0f8ff;}#sk-container-id-4 div.sk-toggleable__content pre {margin: 0.2em;color: black;border-radius: 0.25em;background-color: #f0f8ff;}#sk-container-id-4 input.sk-toggleable__control:checked~div.sk-toggleable__content {max-height: 200px;max-width: 100%;overflow: auto;}#sk-container-id-4 input.sk-toggleable__control:checked~label.sk-toggleable__label-arrow:before {content: \"▾\";}#sk-container-id-4 div.sk-estimator input.sk-toggleable__control:checked~label.sk-toggleable__label {background-color: #d4ebff;}#sk-container-id-4 div.sk-label input.sk-toggleable__control:checked~label.sk-toggleable__label {background-color: #d4ebff;}#sk-container-id-4 input.sk-hidden--visually {border: 0;clip: rect(1px 1px 1px 1px);clip: rect(1px, 1px, 1px, 1px);height: 1px;margin: -1px;overflow: hidden;padding: 0;position: absolute;width: 1px;}#sk-container-id-4 div.sk-estimator {font-family: monospace;background-color: #f0f8ff;border: 1px dotted black;border-radius: 0.25em;box-sizing: border-box;margin-bottom: 0.5em;}#sk-container-id-4 div.sk-estimator:hover {background-color: #d4ebff;}#sk-container-id-4 div.sk-parallel-item::after {content: \"\";width: 100%;border-bottom: 1px solid gray;flex-grow: 1;}#sk-container-id-4 div.sk-label:hover label.sk-toggleable__label {background-color: #d4ebff;}#sk-container-id-4 div.sk-serial::before {content: \"\";position: absolute;border-left: 1px solid gray;box-sizing: border-box;top: 0;bottom: 0;left: 50%;z-index: 0;}#sk-container-id-4 div.sk-serial {display: flex;flex-direction: column;align-items: center;background-color: white;padding-right: 0.2em;padding-left: 0.2em;position: relative;}#sk-container-id-4 div.sk-item {position: relative;z-index: 1;}#sk-container-id-4 div.sk-parallel {display: flex;align-items: stretch;justify-content: center;background-color: white;position: relative;}#sk-container-id-4 div.sk-item::before, #sk-container-id-4 div.sk-parallel-item::before {content: \"\";position: absolute;border-left: 1px solid gray;box-sizing: border-box;top: 0;bottom: 0;left: 50%;z-index: -1;}#sk-container-id-4 div.sk-parallel-item {display: flex;flex-direction: column;z-index: 1;position: relative;background-color: white;}#sk-container-id-4 div.sk-parallel-item:first-child::after {align-self: flex-end;width: 50%;}#sk-container-id-4 div.sk-parallel-item:last-child::after {align-self: flex-start;width: 50%;}#sk-container-id-4 div.sk-parallel-item:only-child::after {width: 0;}#sk-container-id-4 div.sk-dashed-wrapped {border: 1px dashed gray;margin: 0 0.4em 0.5em 0.4em;box-sizing: border-box;padding-bottom: 0.4em;background-color: white;}#sk-container-id-4 div.sk-label label {font-family: monospace;font-weight: bold;display: inline-block;line-height: 1.2em;}#sk-container-id-4 div.sk-label-container {text-align: center;}#sk-container-id-4 div.sk-container {/* jupyter's `normalize.less` sets `[hidden] { display: none; }` but bootstrap.min.css set `[hidden] { display: none !important; }` so we also need the `!important` here to be able to override the default hidden behavior on the sphinx rendered scikit-learn.org. See: https://github.com/scikit-learn/scikit-learn/issues/21755 */display: inline-block !important;position: relative;}#sk-container-id-4 div.sk-text-repr-fallback {display: none;}</style><div id=\"sk-container-id-4\" class=\"sk-top-container\"><div class=\"sk-text-repr-fallback\"><pre>DecisionTreeClassifier()</pre><b>In a Jupyter environment, please rerun this cell to show the HTML representation or trust the notebook. <br />On GitHub, the HTML representation is unable to render, please try loading this page with nbviewer.org.</b></div><div class=\"sk-container\" hidden><div class=\"sk-item\"><div class=\"sk-estimator sk-toggleable\"><input class=\"sk-toggleable__control sk-hidden--visually\" id=\"sk-estimator-id-4\" type=\"checkbox\" checked><label for=\"sk-estimator-id-4\" class=\"sk-toggleable__label sk-toggleable__label-arrow\">DecisionTreeClassifier</label><div class=\"sk-toggleable__content\"><pre>DecisionTreeClassifier()</pre></div></div></div></div></div>"
      ],
      "text/plain": [
       "DecisionTreeClassifier()"
      ]
     },
     "execution_count": 50,
     "metadata": {},
     "output_type": "execute_result"
    }
   ],
   "source": [
    "from sklearn.tree import DecisionTreeClassifier\n",
    "TreeClassifier=DecisionTreeClassifier()\n",
    "TreeClassifier.fit(X_train,y_train)"
   ]
  },
  {
   "cell_type": "code",
   "execution_count": 55,
   "id": "5aa29417",
   "metadata": {},
   "outputs": [
    {
     "data": {
      "text/plain": [
       "array(['O', 'U', 'T', ..., 'A', 'Y', 'S'], dtype=object)"
      ]
     },
     "execution_count": 55,
     "metadata": {},
     "output_type": "execute_result"
    }
   ],
   "source": [
    "y_pred_dt=TreeClassifier.predict(X_test)\n",
    "y_pred_dt"
   ]
  },
  {
   "cell_type": "code",
   "execution_count": 63,
   "id": "271ee026",
   "metadata": {},
   "outputs": [
    {
     "data": {
      "text/plain": [
       "0.9451653898474977"
      ]
     },
     "execution_count": 63,
     "metadata": {},
     "output_type": "execute_result"
    }
   ],
   "source": [
    "accuracy_score(y_test,y_pred_dt)"
   ]
  },
  {
   "cell_type": "code",
   "execution_count": 134,
   "id": "8d88ed4a",
   "metadata": {},
   "outputs": [
    {
     "data": {
      "text/plain": [
       "<AxesSubplot:xlabel='label', ylabel='Count'>"
      ]
     },
     "execution_count": 134,
     "metadata": {},
     "output_type": "execute_result"
    },
    {
     "data": {
      "image/png": "[encoded data removed]",
      "text/plain": [
       "<Figure size 640x480 with 1 Axes>"
      ]
     },
     "metadata": {},
     "output_type": "display_data"
    }
   ],
   "source": [
    "sns.histplot(y_test,color='red',alpha=0.5)\n",
    "sns.histplot(y_pred_dt,color='yellow',alpha=0.5)"
   ]
  },
  {
   "cell_type": "code",
   "execution_count": 56,
   "id": "bd1e90fd",
   "metadata": {},
   "outputs": [
    {
     "name": "stdout",
     "output_type": "stream",
     "text": [
      "              precision    recall  f1-score   support\n",
      "\n",
      "           A       0.93      0.92      0.93      4204\n",
      "           B       0.88      0.86      0.87      2656\n",
      "           C       0.96      0.96      0.96      7048\n",
      "           D       0.89      0.91      0.90      3005\n",
      "           E       0.89      0.90      0.89      3402\n",
      "           F       0.92      0.81      0.87       351\n",
      "           G       0.88      0.88      0.88      1737\n",
      "           H       0.87      0.89      0.88      2172\n",
      "           I       0.85      0.82      0.84       350\n",
      "           J       0.93      0.93      0.93      2538\n",
      "           K       0.90      0.89      0.89      1650\n",
      "           L       0.96      0.97      0.97      3459\n",
      "           M       0.93      0.88      0.90      3694\n",
      "           N       0.93      0.93      0.93      5760\n",
      "           O       0.98      0.98      0.98     17569\n",
      "           P       0.97      0.97      0.97      5744\n",
      "           Q       0.89      0.88      0.89      1794\n",
      "           R       0.91      0.91      0.91      3466\n",
      "           S       0.97      0.98      0.97     14381\n",
      "           T       0.97      0.98      0.98      6671\n",
      "           U       0.96      0.96      0.96      8616\n",
      "           V       0.96      0.95      0.95      1230\n",
      "           W       0.93      0.92      0.92      3227\n",
      "           X       0.92      0.91      0.92      1894\n",
      "           Y       0.94      0.94      0.94      3275\n",
      "           Z       0.93      0.91      0.92      1843\n",
      "\n",
      "    accuracy                           0.95    111736\n",
      "   macro avg       0.92      0.92      0.92    111736\n",
      "weighted avg       0.95      0.95      0.95    111736\n",
      "\n"
     ]
    }
   ],
   "source": [
    "print(classification_report(y_test,y_pred_dt))"
   ]
  },
  {
   "cell_type": "code",
   "execution_count": 57,
   "id": "f7497734",
   "metadata": {},
   "outputs": [
    {
     "data": {
      "text/plain": [
       "array([[ 3886,    19,     2,    15,     7,     0,     5,    29,     0,\n",
       "            5,     7,    10,    46,    33,    11,     9,    12,    63,\n",
       "            8,     3,    12,     0,     5,    11,     1,     5],\n",
       "       [   27,  2292,     6,    40,    41,     1,    31,     3,     0,\n",
       "            7,     3,     1,     2,     8,    55,     5,     1,    27,\n",
       "           72,     4,    12,     0,     4,     2,     3,     9],\n",
       "       [    4,    22,  6769,     6,    54,     2,    17,     4,     0,\n",
       "            8,     4,    41,     6,     4,    19,     9,     8,    20,\n",
       "           24,     5,    10,     0,     4,     2,     2,     4],\n",
       "       [   10,    27,     4,  2744,     9,     0,     2,     0,     0,\n",
       "            7,     0,     4,     6,     4,   122,    17,     2,     1,\n",
       "           15,     3,    11,     0,     7,     2,     4,     4],\n",
       "       [    5,    34,    57,    11,  3047,     9,    30,     8,     5,\n",
       "           11,    20,    13,     0,     6,    25,     5,    11,    34,\n",
       "           37,     3,     0,     0,     6,     2,     3,    20],\n",
       "       [    2,     0,     3,     1,    13,   286,     1,     1,     0,\n",
       "            3,     3,     0,     0,     0,     1,    18,     0,     0,\n",
       "            3,    10,     0,     0,     1,     0,     5,     0],\n",
       "       [    3,    16,    15,     5,    34,     0,  1535,     0,     1,\n",
       "            0,     1,     4,     2,     5,    15,     4,    36,     3,\n",
       "           34,     4,     9,     0,     8,     2,     1,     0],\n",
       "       [   29,     5,     0,     0,     4,     0,     3,  1928,     0,\n",
       "            1,     9,     1,    39,    68,     4,     3,     3,    13,\n",
       "            5,     1,    19,     0,    12,     8,    12,     5],\n",
       "       [    0,     0,     3,     0,     6,     0,     3,     0,   287,\n",
       "            7,     0,     3,     0,     1,     0,     0,     0,     0,\n",
       "           11,     9,     3,     0,     0,     4,     4,     9],\n",
       "       [    2,     5,     0,     8,     5,     0,     1,     2,     9,\n",
       "         2373,     2,     0,     4,     4,     7,     4,     6,     0,\n",
       "           59,    18,    14,     0,     0,     3,     5,     7],\n",
       "       [    2,     1,    13,     3,    29,     1,     1,     8,     0,\n",
       "            1,  1469,     8,     4,     6,     0,     2,     0,    32,\n",
       "            1,     0,    11,     0,     8,    36,    10,     4],\n",
       "       [    4,     1,    27,     1,     4,     0,     4,     0,     1,\n",
       "            0,     2,  3371,     0,     9,     0,     0,     0,     4,\n",
       "           10,     6,     7,     0,     2,     1,     3,     2],\n",
       "       [   66,    25,     4,    10,    12,     2,     6,    70,     0,\n",
       "            2,    10,     0,  3250,    85,    18,     9,     8,    21,\n",
       "            5,    18,    25,     0,    39,     2,     4,     3],\n",
       "       [   16,     4,     6,     2,    10,     0,     1,    88,     2,\n",
       "           13,    10,     0,    84,  5384,     7,     4,     0,     9,\n",
       "            8,     6,    41,     4,    45,     6,    10,     0],\n",
       "       [   14,    34,    23,   125,    19,     0,     4,     0,     0,\n",
       "            2,     0,     0,     2,     5, 17221,    10,    34,     7,\n",
       "           32,     2,    27,     2,     0,     0,     4,     2],\n",
       "       [   12,     6,     5,    27,    10,     8,     2,     6,     0,\n",
       "            0,     1,     0,     0,     9,     5,  5552,    18,    10,\n",
       "            4,    36,     0,     0,     0,     2,    27,     4],\n",
       "       [    8,     5,     8,    11,     2,     0,    38,     3,     0,\n",
       "            1,     0,     0,     5,     3,    48,    14,  1582,    20,\n",
       "           12,     2,    25,     0,     4,     2,     0,     1],\n",
       "       [   59,    28,    27,     6,    22,     0,     8,    13,     4,\n",
       "            2,    27,     2,    10,    10,     4,     8,    34,  3140,\n",
       "           11,     0,     9,     0,     7,    12,     4,    19],\n",
       "       [    2,    42,    13,    25,    26,     0,    39,     0,     9,\n",
       "           48,     7,     7,     6,     4,    30,     4,     6,     8,\n",
       "        14041,     6,    10,     0,    10,    10,    19,     9],\n",
       "       [    3,     2,     7,     2,     2,     0,     0,     0,     2,\n",
       "           14,     3,     2,     5,     1,     2,    16,     0,     2,\n",
       "            7,  6546,     0,     2,     4,     0,    47,     2],\n",
       "       [   14,    16,    12,    11,    18,     0,    10,    21,     2,\n",
       "           14,     8,     6,    14,    51,    36,     2,    16,    12,\n",
       "           10,     0,  8283,    14,    34,     2,     4,     6],\n",
       "       [    0,     0,     0,     0,     1,     1,     0,     1,     0,\n",
       "            5,     6,     0,     0,     5,     2,     1,     0,     0,\n",
       "            0,     1,    23,  1164,     7,     0,    13,     0],\n",
       "       [    4,    10,     8,     8,    12,     0,     9,    14,     0,\n",
       "            3,     0,     2,    17,    87,     9,     2,     3,     8,\n",
       "            6,     3,    53,     4,  2958,     4,     1,     2],\n",
       "       [   15,     3,     2,     2,     5,     0,     0,     6,     5,\n",
       "            3,    31,     9,     3,    11,     0,     8,     0,    14,\n",
       "           10,     4,     7,     4,     2,  1726,    13,    11],\n",
       "       [    7,     2,     1,     2,     0,     0,     0,     6,     0,\n",
       "           20,     5,     0,     3,     3,     2,    30,     1,     0,\n",
       "           13,    37,     8,    23,     5,    12,  3093,     2],\n",
       "       [    0,    17,     7,     7,    16,     0,     3,     7,     9,\n",
       "            3,     5,    17,     3,     1,     1,     4,     0,    21,\n",
       "            6,     6,     4,     0,     4,    19,     1,  1682]],\n",
       "      dtype=int64)"
      ]
     },
     "execution_count": 57,
     "metadata": {},
     "output_type": "execute_result"
    }
   ],
   "source": [
    "confusion_matrix(y_test,y_pred_dt)"
   ]
  },
  {
   "cell_type": "code",
   "execution_count": 59,
   "id": "a4192012",
   "metadata": {},
   "outputs": [
    {
     "data": {
      "text/html": [
       "<style>#sk-container-id-6 {color: black;background-color: white;}#sk-container-id-6 pre{padding: 0;}#sk-container-id-6 div.sk-toggleable {background-color: white;}#sk-container-id-6 label.sk-toggleable__label {cursor: pointer;display: block;width: 100%;margin-bottom: 0;padding: 0.3em;box-sizing: border-box;text-align: center;}#sk-container-id-6 label.sk-toggleable__label-arrow:before {content: \"▸\";float: left;margin-right: 0.25em;color: #696969;}#sk-container-id-6 label.sk-toggleable__label-arrow:hover:before {color: black;}#sk-container-id-6 div.sk-estimator:hover label.sk-toggleable__label-arrow:before {color: black;}#sk-container-id-6 div.sk-toggleable__content {max-height: 0;max-width: 0;overflow: hidden;text-align: left;background-color: #f0f8ff;}#sk-container-id-6 div.sk-toggleable__content pre {margin: 0.2em;color: black;border-radius: 0.25em;background-color: #f0f8ff;}#sk-container-id-6 input.sk-toggleable__control:checked~div.sk-toggleable__content {max-height: 200px;max-width: 100%;overflow: auto;}#sk-container-id-6 input.sk-toggleable__control:checked~label.sk-toggleable__label-arrow:before {content: \"▾\";}#sk-container-id-6 div.sk-estimator input.sk-toggleable__control:checked~label.sk-toggleable__label {background-color: #d4ebff;}#sk-container-id-6 div.sk-label input.sk-toggleable__control:checked~label.sk-toggleable__label {background-color: #d4ebff;}#sk-container-id-6 input.sk-hidden--visually {border: 0;clip: rect(1px 1px 1px 1px);clip: rect(1px, 1px, 1px, 1px);height: 1px;margin: -1px;overflow: hidden;padding: 0;position: absolute;width: 1px;}#sk-container-id-6 div.sk-estimator {font-family: monospace;background-color: #f0f8ff;border: 1px dotted black;border-radius: 0.25em;box-sizing: border-box;margin-bottom: 0.5em;}#sk-container-id-6 div.sk-estimator:hover {background-color: #d4ebff;}#sk-container-id-6 div.sk-parallel-item::after {content: \"\";width: 100%;border-bottom: 1px solid gray;flex-grow: 1;}#sk-container-id-6 div.sk-label:hover label.sk-toggleable__label {background-color: #d4ebff;}#sk-container-id-6 div.sk-serial::before {content: \"\";position: absolute;border-left: 1px solid gray;box-sizing: border-box;top: 0;bottom: 0;left: 50%;z-index: 0;}#sk-container-id-6 div.sk-serial {display: flex;flex-direction: column;align-items: center;background-color: white;padding-right: 0.2em;padding-left: 0.2em;position: relative;}#sk-container-id-6 div.sk-item {position: relative;z-index: 1;}#sk-container-id-6 div.sk-parallel {display: flex;align-items: stretch;justify-content: center;background-color: white;position: relative;}#sk-container-id-6 div.sk-item::before, #sk-container-id-6 div.sk-parallel-item::before {content: \"\";position: absolute;border-left: 1px solid gray;box-sizing: border-box;top: 0;bottom: 0;left: 50%;z-index: -1;}#sk-container-id-6 div.sk-parallel-item {display: flex;flex-direction: column;z-index: 1;position: relative;background-color: white;}#sk-container-id-6 div.sk-parallel-item:first-child::after {align-self: flex-end;width: 50%;}#sk-container-id-6 div.sk-parallel-item:last-child::after {align-self: flex-start;width: 50%;}#sk-container-id-6 div.sk-parallel-item:only-child::after {width: 0;}#sk-container-id-6 div.sk-dashed-wrapped {border: 1px dashed gray;margin: 0 0.4em 0.5em 0.4em;box-sizing: border-box;padding-bottom: 0.4em;background-color: white;}#sk-container-id-6 div.sk-label label {font-family: monospace;font-weight: bold;display: inline-block;line-height: 1.2em;}#sk-container-id-6 div.sk-label-container {text-align: center;}#sk-container-id-6 div.sk-container {/* jupyter's `normalize.less` sets `[hidden] { display: none; }` but bootstrap.min.css set `[hidden] { display: none !important; }` so we also need the `!important` here to be able to override the default hidden behavior on the sphinx rendered scikit-learn.org. See: https://github.com/scikit-learn/scikit-learn/issues/21755 */display: inline-block !important;position: relative;}#sk-container-id-6 div.sk-text-repr-fallback {display: none;}</style><div id=\"sk-container-id-6\" class=\"sk-top-container\"><div class=\"sk-text-repr-fallback\"><pre>KNeighborsClassifier()</pre><b>In a Jupyter environment, please rerun this cell to show the HTML representation or trust the notebook. <br />On GitHub, the HTML representation is unable to render, please try loading this page with nbviewer.org.</b></div><div class=\"sk-container\" hidden><div class=\"sk-item\"><div class=\"sk-estimator sk-toggleable\"><input class=\"sk-toggleable__control sk-hidden--visually\" id=\"sk-estimator-id-6\" type=\"checkbox\" checked><label for=\"sk-estimator-id-6\" class=\"sk-toggleable__label sk-toggleable__label-arrow\">KNeighborsClassifier</label><div class=\"sk-toggleable__content\"><pre>KNeighborsClassifier()</pre></div></div></div></div></div>"
      ],
      "text/plain": [
       "KNeighborsClassifier()"
      ]
     },
     "execution_count": 59,
     "metadata": {},
     "output_type": "execute_result"
    }
   ],
   "source": [
    "from sklearn.neighbors import KNeighborsClassifier\n",
    "KN_Classifier=KNeighborsClassifier()\n",
    "KN_Classifier.fit(X_train,y_train)"
   ]
  },
  {
   "cell_type": "code",
   "execution_count": 61,
   "id": "e49caf5c",
   "metadata": {},
   "outputs": [
    {
     "data": {
      "text/plain": [
       "array(['O', 'U', 'E', ..., 'A', 'Y', 'S'], dtype=object)"
      ]
     },
     "execution_count": 61,
     "metadata": {},
     "output_type": "execute_result"
    }
   ],
   "source": [
    "y_pred_knc=KN_Classifier.predict(X_test)\n",
    "y_pred_knc"
   ]
  },
  {
   "cell_type": "code",
   "execution_count": 62,
   "id": "066f92ca",
   "metadata": {},
   "outputs": [
    {
     "data": {
      "text/plain": [
       "0.9649352044103959"
      ]
     },
     "execution_count": 62,
     "metadata": {},
     "output_type": "execute_result"
    }
   ],
   "source": [
    "accuracy_score(y_test,y_pred_knc)"
   ]
  },
  {
   "cell_type": "code",
   "execution_count": 64,
   "id": "72275c70",
   "metadata": {},
   "outputs": [
    {
     "name": "stdout",
     "output_type": "stream",
     "text": [
      "              precision    recall  f1-score   support\n",
      "\n",
      "           A       0.93      0.98      0.95      4204\n",
      "           B       0.95      0.93      0.94      2656\n",
      "           C       0.97      0.98      0.97      7048\n",
      "           D       0.92      0.87      0.90      3005\n",
      "           E       0.95      0.93      0.94      3402\n",
      "           F       0.98      0.90      0.94       351\n",
      "           G       0.96      0.89      0.92      1737\n",
      "           H       0.89      0.91      0.90      2172\n",
      "           I       0.98      0.91      0.94       350\n",
      "           J       0.95      0.93      0.94      2538\n",
      "           K       0.94      0.92      0.93      1650\n",
      "           L       0.96      0.98      0.97      3459\n",
      "           M       0.97      0.96      0.97      3694\n",
      "           N       0.95      0.96      0.96      5760\n",
      "           O       0.96      0.99      0.98     17569\n",
      "           P       0.96      0.98      0.97      5744\n",
      "           Q       0.96      0.89      0.92      1794\n",
      "           R       0.97      0.91      0.94      3466\n",
      "           S       0.99      0.99      0.99     14381\n",
      "           T       0.98      0.99      0.98      6671\n",
      "           U       0.98      0.98      0.98      8616\n",
      "           V       0.97      0.99      0.98      1230\n",
      "           W       0.98      0.94      0.96      3227\n",
      "           X       0.98      0.93      0.96      1894\n",
      "           Y       0.96      0.96      0.96      3275\n",
      "           Z       0.98      0.96      0.97      1843\n",
      "\n",
      "    accuracy                           0.96    111736\n",
      "   macro avg       0.96      0.95      0.95    111736\n",
      "weighted avg       0.96      0.96      0.96    111736\n",
      "\n"
     ]
    }
   ],
   "source": [
    "print(classification_report(y_test,y_pred_knc))"
   ]
  },
  {
   "cell_type": "code",
   "execution_count": 65,
   "id": "8d76ac5d",
   "metadata": {},
   "outputs": [
    {
     "data": {
      "text/html": [
       "<style>#sk-container-id-7 {color: black;background-color: white;}#sk-container-id-7 pre{padding: 0;}#sk-container-id-7 div.sk-toggleable {background-color: white;}#sk-container-id-7 label.sk-toggleable__label {cursor: pointer;display: block;width: 100%;margin-bottom: 0;padding: 0.3em;box-sizing: border-box;text-align: center;}#sk-container-id-7 label.sk-toggleable__label-arrow:before {content: \"▸\";float: left;margin-right: 0.25em;color: #696969;}#sk-container-id-7 label.sk-toggleable__label-arrow:hover:before {color: black;}#sk-container-id-7 div.sk-estimator:hover label.sk-toggleable__label-arrow:before {color: black;}#sk-container-id-7 div.sk-toggleable__content {max-height: 0;max-width: 0;overflow: hidden;text-align: left;background-color: #f0f8ff;}#sk-container-id-7 div.sk-toggleable__content pre {margin: 0.2em;color: black;border-radius: 0.25em;background-color: #f0f8ff;}#sk-container-id-7 input.sk-toggleable__control:checked~div.sk-toggleable__content {max-height: 200px;max-width: 100%;overflow: auto;}#sk-container-id-7 input.sk-toggleable__control:checked~label.sk-toggleable__label-arrow:before {content: \"▾\";}#sk-container-id-7 div.sk-estimator input.sk-toggleable__control:checked~label.sk-toggleable__label {background-color: #d4ebff;}#sk-container-id-7 div.sk-label input.sk-toggleable__control:checked~label.sk-toggleable__label {background-color: #d4ebff;}#sk-container-id-7 input.sk-hidden--visually {border: 0;clip: rect(1px 1px 1px 1px);clip: rect(1px, 1px, 1px, 1px);height: 1px;margin: -1px;overflow: hidden;padding: 0;position: absolute;width: 1px;}#sk-container-id-7 div.sk-estimator {font-family: monospace;background-color: #f0f8ff;border: 1px dotted black;border-radius: 0.25em;box-sizing: border-box;margin-bottom: 0.5em;}#sk-container-id-7 div.sk-estimator:hover {background-color: #d4ebff;}#sk-container-id-7 div.sk-parallel-item::after {content: \"\";width: 100%;border-bottom: 1px solid gray;flex-grow: 1;}#sk-container-id-7 div.sk-label:hover label.sk-toggleable__label {background-color: #d4ebff;}#sk-container-id-7 div.sk-serial::before {content: \"\";position: absolute;border-left: 1px solid gray;box-sizing: border-box;top: 0;bottom: 0;left: 50%;z-index: 0;}#sk-container-id-7 div.sk-serial {display: flex;flex-direction: column;align-items: center;background-color: white;padding-right: 0.2em;padding-left: 0.2em;position: relative;}#sk-container-id-7 div.sk-item {position: relative;z-index: 1;}#sk-container-id-7 div.sk-parallel {display: flex;align-items: stretch;justify-content: center;background-color: white;position: relative;}#sk-container-id-7 div.sk-item::before, #sk-container-id-7 div.sk-parallel-item::before {content: \"\";position: absolute;border-left: 1px solid gray;box-sizing: border-box;top: 0;bottom: 0;left: 50%;z-index: -1;}#sk-container-id-7 div.sk-parallel-item {display: flex;flex-direction: column;z-index: 1;position: relative;background-color: white;}#sk-container-id-7 div.sk-parallel-item:first-child::after {align-self: flex-end;width: 50%;}#sk-container-id-7 div.sk-parallel-item:last-child::after {align-self: flex-start;width: 50%;}#sk-container-id-7 div.sk-parallel-item:only-child::after {width: 0;}#sk-container-id-7 div.sk-dashed-wrapped {border: 1px dashed gray;margin: 0 0.4em 0.5em 0.4em;box-sizing: border-box;padding-bottom: 0.4em;background-color: white;}#sk-container-id-7 div.sk-label label {font-family: monospace;font-weight: bold;display: inline-block;line-height: 1.2em;}#sk-container-id-7 div.sk-label-container {text-align: center;}#sk-container-id-7 div.sk-container {/* jupyter's `normalize.less` sets `[hidden] { display: none; }` but bootstrap.min.css set `[hidden] { display: none !important; }` so we also need the `!important` here to be able to override the default hidden behavior on the sphinx rendered scikit-learn.org. See: https://github.com/scikit-learn/scikit-learn/issues/21755 */display: inline-block !important;position: relative;}#sk-container-id-7 div.sk-text-repr-fallback {display: none;}</style><div id=\"sk-container-id-7\" class=\"sk-top-container\"><div class=\"sk-text-repr-fallback\"><pre>RandomForestClassifier()</pre><b>In a Jupyter environment, please rerun this cell to show the HTML representation or trust the notebook. <br />On GitHub, the HTML representation is unable to render, please try loading this page with nbviewer.org.</b></div><div class=\"sk-container\" hidden><div class=\"sk-item\"><div class=\"sk-estimator sk-toggleable\"><input class=\"sk-toggleable__control sk-hidden--visually\" id=\"sk-estimator-id-7\" type=\"checkbox\" checked><label for=\"sk-estimator-id-7\" class=\"sk-toggleable__label sk-toggleable__label-arrow\">RandomForestClassifier</label><div class=\"sk-toggleable__content\"><pre>RandomForestClassifier()</pre></div></div></div></div></div>"
      ],
      "text/plain": [
       "RandomForestClassifier()"
      ]
     },
     "execution_count": 65,
     "metadata": {},
     "output_type": "execute_result"
    }
   ],
   "source": [
    "from sklearn.ensemble import RandomForestClassifier\n",
    "RF_Classifier=RandomForestClassifier()\n",
    "RF_Classifier.fit(X_train,y_train)"
   ]
  },
  {
   "cell_type": "code",
   "execution_count": 66,
   "id": "7f34d7a4",
   "metadata": {},
   "outputs": [
    {
     "data": {
      "text/plain": [
       "array(['O', 'U', 'E', ..., 'A', 'Y', 'S'], dtype=object)"
      ]
     },
     "execution_count": 66,
     "metadata": {},
     "output_type": "execute_result"
    }
   ],
   "source": [
    "y_pred_rfc=RF_Classifier.predict(X_test)\n",
    "y_pred_rfc"
   ]
  },
  {
   "cell_type": "code",
   "execution_count": 67,
   "id": "b86cbe8e",
   "metadata": {},
   "outputs": [
    {
     "data": {
      "text/plain": [
       "0.981563685830887"
      ]
     },
     "execution_count": 67,
     "metadata": {},
     "output_type": "execute_result"
    }
   ],
   "source": [
    "accuracy_score(y_test,y_pred_rfc)\n"
   ]
  },
  {
   "cell_type": "code",
   "execution_count": 120,
   "id": "7fc78c75",
   "metadata": {},
   "outputs": [
    {
     "data": {
      "text/plain": [
       "<AxesSubplot:xlabel='label', ylabel='Count'>"
      ]
     },
     "execution_count": 120,
     "metadata": {},
     "output_type": "execute_result"
    },
    {
     "data": {
      "image/png": "[encoded data removed]",
      "text/plain": [
       "<Figure size 640x480 with 1 Axes>"
      ]
     },
     "metadata": {},
     "output_type": "display_data"
    }
   ],
   "source": [
    "sns.histplot(y_test,color='blue',alpha=0.5)\n",
    "sns.histplot(y_pred_rfc,color='pink',alpha=0.5)\n"
   ]
  },
  {
   "cell_type": "code",
   "execution_count": 68,
   "id": "dbc54712",
   "metadata": {},
   "outputs": [
    {
     "name": "stdout",
     "output_type": "stream",
     "text": [
      "              precision    recall  f1-score   support\n",
      "\n",
      "           A       0.96      0.99      0.97      4204\n",
      "           B       0.97      0.95      0.96      2656\n",
      "           C       0.98      0.99      0.99      7048\n",
      "           D       0.97      0.95      0.96      3005\n",
      "           E       0.97      0.96      0.97      3402\n",
      "           F       1.00      0.92      0.96       351\n",
      "           G       0.98      0.95      0.96      1737\n",
      "           H       0.97      0.93      0.95      2172\n",
      "           I       1.00      0.91      0.95       350\n",
      "           J       0.98      0.97      0.97      2538\n",
      "           K       0.97      0.96      0.96      1650\n",
      "           L       0.99      0.99      0.99      3459\n",
      "           M       0.98      0.96      0.97      3694\n",
      "           N       0.96      0.98      0.97      5760\n",
      "           O       0.98      1.00      0.99     17569\n",
      "           P       0.99      0.99      0.99      5744\n",
      "           Q       0.98      0.94      0.96      1794\n",
      "           R       0.98      0.97      0.98      3466\n",
      "           S       0.99      1.00      0.99     14381\n",
      "           T       0.99      0.99      0.99      6671\n",
      "           U       0.99      0.99      0.99      8616\n",
      "           V       0.99      0.98      0.99      1230\n",
      "           W       0.99      0.97      0.98      3227\n",
      "           X       0.99      0.97      0.98      1894\n",
      "           Y       0.97      0.98      0.98      3275\n",
      "           Z       0.99      0.97      0.98      1843\n",
      "\n",
      "    accuracy                           0.98    111736\n",
      "   macro avg       0.98      0.97      0.97    111736\n",
      "weighted avg       0.98      0.98      0.98    111736\n",
      "\n"
     ]
    }
   ],
   "source": [
    "print(classification_report(y_test,y_pred_rfc))"
   ]
  },
  {
   "cell_type": "code",
   "execution_count": 69,
   "id": "66bc3a20",
   "metadata": {},
   "outputs": [
    {
     "data": {
      "text/html": [
       "<style>#sk-container-id-8 {color: black;background-color: white;}#sk-container-id-8 pre{padding: 0;}#sk-container-id-8 div.sk-toggleable {background-color: white;}#sk-container-id-8 label.sk-toggleable__label {cursor: pointer;display: block;width: 100%;margin-bottom: 0;padding: 0.3em;box-sizing: border-box;text-align: center;}#sk-container-id-8 label.sk-toggleable__label-arrow:before {content: \"▸\";float: left;margin-right: 0.25em;color: #696969;}#sk-container-id-8 label.sk-toggleable__label-arrow:hover:before {color: black;}#sk-container-id-8 div.sk-estimator:hover label.sk-toggleable__label-arrow:before {color: black;}#sk-container-id-8 div.sk-toggleable__content {max-height: 0;max-width: 0;overflow: hidden;text-align: left;background-color: #f0f8ff;}#sk-container-id-8 div.sk-toggleable__content pre {margin: 0.2em;color: black;border-radius: 0.25em;background-color: #f0f8ff;}#sk-container-id-8 input.sk-toggleable__control:checked~div.sk-toggleable__content {max-height: 200px;max-width: 100%;overflow: auto;}#sk-container-id-8 input.sk-toggleable__control:checked~label.sk-toggleable__label-arrow:before {content: \"▾\";}#sk-container-id-8 div.sk-estimator input.sk-toggleable__control:checked~label.sk-toggleable__label {background-color: #d4ebff;}#sk-container-id-8 div.sk-label input.sk-toggleable__control:checked~label.sk-toggleable__label {background-color: #d4ebff;}#sk-container-id-8 input.sk-hidden--visually {border: 0;clip: rect(1px 1px 1px 1px);clip: rect(1px, 1px, 1px, 1px);height: 1px;margin: -1px;overflow: hidden;padding: 0;position: absolute;width: 1px;}#sk-container-id-8 div.sk-estimator {font-family: monospace;background-color: #f0f8ff;border: 1px dotted black;border-radius: 0.25em;box-sizing: border-box;margin-bottom: 0.5em;}#sk-container-id-8 div.sk-estimator:hover {background-color: #d4ebff;}#sk-container-id-8 div.sk-parallel-item::after {content: \"\";width: 100%;border-bottom: 1px solid gray;flex-grow: 1;}#sk-container-id-8 div.sk-label:hover label.sk-toggleable__label {background-color: #d4ebff;}#sk-container-id-8 div.sk-serial::before {content: \"\";position: absolute;border-left: 1px solid gray;box-sizing: border-box;top: 0;bottom: 0;left: 50%;z-index: 0;}#sk-container-id-8 div.sk-serial {display: flex;flex-direction: column;align-items: center;background-color: white;padding-right: 0.2em;padding-left: 0.2em;position: relative;}#sk-container-id-8 div.sk-item {position: relative;z-index: 1;}#sk-container-id-8 div.sk-parallel {display: flex;align-items: stretch;justify-content: center;background-color: white;position: relative;}#sk-container-id-8 div.sk-item::before, #sk-container-id-8 div.sk-parallel-item::before {content: \"\";position: absolute;border-left: 1px solid gray;box-sizing: border-box;top: 0;bottom: 0;left: 50%;z-index: -1;}#sk-container-id-8 div.sk-parallel-item {display: flex;flex-direction: column;z-index: 1;position: relative;background-color: white;}#sk-container-id-8 div.sk-parallel-item:first-child::after {align-self: flex-end;width: 50%;}#sk-container-id-8 div.sk-parallel-item:last-child::after {align-self: flex-start;width: 50%;}#sk-container-id-8 div.sk-parallel-item:only-child::after {width: 0;}#sk-container-id-8 div.sk-dashed-wrapped {border: 1px dashed gray;margin: 0 0.4em 0.5em 0.4em;box-sizing: border-box;padding-bottom: 0.4em;background-color: white;}#sk-container-id-8 div.sk-label label {font-family: monospace;font-weight: bold;display: inline-block;line-height: 1.2em;}#sk-container-id-8 div.sk-label-container {text-align: center;}#sk-container-id-8 div.sk-container {/* jupyter's `normalize.less` sets `[hidden] { display: none; }` but bootstrap.min.css set `[hidden] { display: none !important; }` so we also need the `!important` here to be able to override the default hidden behavior on the sphinx rendered scikit-learn.org. See: https://github.com/scikit-learn/scikit-learn/issues/21755 */display: inline-block !important;position: relative;}#sk-container-id-8 div.sk-text-repr-fallback {display: none;}</style><div id=\"sk-container-id-8\" class=\"sk-top-container\"><div class=\"sk-text-repr-fallback\"><pre>AdaBoostClassifier()</pre><b>In a Jupyter environment, please rerun this cell to show the HTML representation or trust the notebook. <br />On GitHub, the HTML representation is unable to render, please try loading this page with nbviewer.org.</b></div><div class=\"sk-container\" hidden><div class=\"sk-item\"><div class=\"sk-estimator sk-toggleable\"><input class=\"sk-toggleable__control sk-hidden--visually\" id=\"sk-estimator-id-8\" type=\"checkbox\" checked><label for=\"sk-estimator-id-8\" class=\"sk-toggleable__label sk-toggleable__label-arrow\">AdaBoostClassifier</label><div class=\"sk-toggleable__content\"><pre>AdaBoostClassifier()</pre></div></div></div></div></div>"
      ],
      "text/plain": [
       "AdaBoostClassifier()"
      ]
     },
     "execution_count": 69,
     "metadata": {},
     "output_type": "execute_result"
    }
   ],
   "source": [
    "from sklearn.ensemble import AdaBoostClassifier\n",
    "abc=AdaBoostClassifier()\n",
    "abc.fit(X_train,y_train)"
   ]
  },
  {
   "cell_type": "code",
   "execution_count": 70,
   "id": "b34f2514",
   "metadata": {},
   "outputs": [
    {
     "data": {
      "text/plain": [
       "array(['O', 'U', 'O', ..., 'A', 'T', 'S'], dtype=object)"
      ]
     },
     "execution_count": 70,
     "metadata": {},
     "output_type": "execute_result"
    }
   ],
   "source": [
    "y_pred_abc=abc.predict(X_test)\n",
    "y_pred_abc"
   ]
  },
  {
   "cell_type": "code",
   "execution_count": 71,
   "id": "784d310b",
   "metadata": {},
   "outputs": [
    {
     "data": {
      "text/plain": [
       "0.5309032004009451"
      ]
     },
     "execution_count": 71,
     "metadata": {},
     "output_type": "execute_result"
    }
   ],
   "source": [
    "accuracy_score(y_test,y_pred_abc)"
   ]
  },
  {
   "cell_type": "code",
   "execution_count": 109,
   "id": "fdc865e9",
   "metadata": {},
   "outputs": [
    {
     "data": {
      "text/plain": [
       "<AxesSubplot:xlabel='label', ylabel='Count'>"
      ]
     },
     "execution_count": 109,
     "metadata": {},
     "output_type": "execute_result"
    },
    {
     "data": {
      "image/png": "[encoded data removed]",
      "text/plain": [
       "<Figure size 640x480 with 1 Axes>"
      ]
     },
     "metadata": {},
     "output_type": "display_data"
    }
   ],
   "source": [
    "sns.histplot(y_test,color='blue',alpha=0.5)\n",
    "sns.histplot(y_pred_abc,color='green',alpha=0.5)"
   ]
  },
  {
   "cell_type": "code",
   "execution_count": 72,
   "id": "a921d74a",
   "metadata": {},
   "outputs": [
    {
     "name": "stdout",
     "output_type": "stream",
     "text": [
      "              precision    recall  f1-score   support\n",
      "\n",
      "           A       0.44      0.33      0.38      4204\n",
      "           B       0.25      0.49      0.33      2656\n",
      "           C       0.57      0.64      0.60      7048\n",
      "           D       0.21      0.60      0.32      3005\n",
      "           E       0.52      0.25      0.34      3402\n",
      "           F       0.75      0.60      0.67       351\n",
      "           G       0.24      0.16      0.20      1737\n",
      "           H       0.25      0.22      0.24      2172\n",
      "           I       0.15      0.88      0.25       350\n",
      "           J       0.39      0.23      0.29      2538\n",
      "           K       0.44      0.51      0.48      1650\n",
      "           L       0.69      0.71      0.70      3459\n",
      "           M       0.40      0.77      0.53      3694\n",
      "           N       0.40      0.40      0.40      5760\n",
      "           O       0.74      0.64      0.69     17569\n",
      "           P       0.78      0.72      0.75      5744\n",
      "           Q       0.36      0.38      0.37      1794\n",
      "           R       0.58      0.37      0.45      3466\n",
      "           S       0.66      0.62      0.64     14381\n",
      "           T       0.61      0.78      0.69      6671\n",
      "           U       0.58      0.42      0.49      8616\n",
      "           V       0.63      0.68      0.66      1230\n",
      "           W       0.53      0.40      0.45      3227\n",
      "           X       0.64      0.46      0.53      1894\n",
      "           Y       0.50      0.22      0.30      3275\n",
      "           Z       0.57      0.27      0.37      1843\n",
      "\n",
      "    accuracy                           0.53    111736\n",
      "   macro avg       0.50      0.49      0.46    111736\n",
      "weighted avg       0.57      0.53      0.53    111736\n",
      "\n"
     ]
    }
   ],
   "source": [
    "print(classification_report(y_test,y_pred_abc))"
   ]
  },
  {
   "cell_type": "code",
   "execution_count": 75,
   "id": "e856bcf6",
   "metadata": {},
   "outputs": [
    {
     "data": {
      "text/html": [
       "<style>#sk-container-id-9 {color: black;background-color: white;}#sk-container-id-9 pre{padding: 0;}#sk-container-id-9 div.sk-toggleable {background-color: white;}#sk-container-id-9 label.sk-toggleable__label {cursor: pointer;display: block;width: 100%;margin-bottom: 0;padding: 0.3em;box-sizing: border-box;text-align: center;}#sk-container-id-9 label.sk-toggleable__label-arrow:before {content: \"▸\";float: left;margin-right: 0.25em;color: #696969;}#sk-container-id-9 label.sk-toggleable__label-arrow:hover:before {color: black;}#sk-container-id-9 div.sk-estimator:hover label.sk-toggleable__label-arrow:before {color: black;}#sk-container-id-9 div.sk-toggleable__content {max-height: 0;max-width: 0;overflow: hidden;text-align: left;background-color: #f0f8ff;}#sk-container-id-9 div.sk-toggleable__content pre {margin: 0.2em;color: black;border-radius: 0.25em;background-color: #f0f8ff;}#sk-container-id-9 input.sk-toggleable__control:checked~div.sk-toggleable__content {max-height: 200px;max-width: 100%;overflow: auto;}#sk-container-id-9 input.sk-toggleable__control:checked~label.sk-toggleable__label-arrow:before {content: \"▾\";}#sk-container-id-9 div.sk-estimator input.sk-toggleable__control:checked~label.sk-toggleable__label {background-color: #d4ebff;}#sk-container-id-9 div.sk-label input.sk-toggleable__control:checked~label.sk-toggleable__label {background-color: #d4ebff;}#sk-container-id-9 input.sk-hidden--visually {border: 0;clip: rect(1px 1px 1px 1px);clip: rect(1px, 1px, 1px, 1px);height: 1px;margin: -1px;overflow: hidden;padding: 0;position: absolute;width: 1px;}#sk-container-id-9 div.sk-estimator {font-family: monospace;background-color: #f0f8ff;border: 1px dotted black;border-radius: 0.25em;box-sizing: border-box;margin-bottom: 0.5em;}#sk-container-id-9 div.sk-estimator:hover {background-color: #d4ebff;}#sk-container-id-9 div.sk-parallel-item::after {content: \"\";width: 100%;border-bottom: 1px solid gray;flex-grow: 1;}#sk-container-id-9 div.sk-label:hover label.sk-toggleable__label {background-color: #d4ebff;}#sk-container-id-9 div.sk-serial::before {content: \"\";position: absolute;border-left: 1px solid gray;box-sizing: border-box;top: 0;bottom: 0;left: 50%;z-index: 0;}#sk-container-id-9 div.sk-serial {display: flex;flex-direction: column;align-items: center;background-color: white;padding-right: 0.2em;padding-left: 0.2em;position: relative;}#sk-container-id-9 div.sk-item {position: relative;z-index: 1;}#sk-container-id-9 div.sk-parallel {display: flex;align-items: stretch;justify-content: center;background-color: white;position: relative;}#sk-container-id-9 div.sk-item::before, #sk-container-id-9 div.sk-parallel-item::before {content: \"\";position: absolute;border-left: 1px solid gray;box-sizing: border-box;top: 0;bottom: 0;left: 50%;z-index: -1;}#sk-container-id-9 div.sk-parallel-item {display: flex;flex-direction: column;z-index: 1;position: relative;background-color: white;}#sk-container-id-9 div.sk-parallel-item:first-child::after {align-self: flex-end;width: 50%;}#sk-container-id-9 div.sk-parallel-item:last-child::after {align-self: flex-start;width: 50%;}#sk-container-id-9 div.sk-parallel-item:only-child::after {width: 0;}#sk-container-id-9 div.sk-dashed-wrapped {border: 1px dashed gray;margin: 0 0.4em 0.5em 0.4em;box-sizing: border-box;padding-bottom: 0.4em;background-color: white;}#sk-container-id-9 div.sk-label label {font-family: monospace;font-weight: bold;display: inline-block;line-height: 1.2em;}#sk-container-id-9 div.sk-label-container {text-align: center;}#sk-container-id-9 div.sk-container {/* jupyter's `normalize.less` sets `[hidden] { display: none; }` but bootstrap.min.css set `[hidden] { display: none !important; }` so we also need the `!important` here to be able to override the default hidden behavior on the sphinx rendered scikit-learn.org. See: https://github.com/scikit-learn/scikit-learn/issues/21755 */display: inline-block !important;position: relative;}#sk-container-id-9 div.sk-text-repr-fallback {display: none;}</style><div id=\"sk-container-id-9\" class=\"sk-top-container\"><div class=\"sk-text-repr-fallback\"><pre>GaussianNB()</pre><b>In a Jupyter environment, please rerun this cell to show the HTML representation or trust the notebook. <br />On GitHub, the HTML representation is unable to render, please try loading this page with nbviewer.org.</b></div><div class=\"sk-container\" hidden><div class=\"sk-item\"><div class=\"sk-estimator sk-toggleable\"><input class=\"sk-toggleable__control sk-hidden--visually\" id=\"sk-estimator-id-9\" type=\"checkbox\" checked><label for=\"sk-estimator-id-9\" class=\"sk-toggleable__label sk-toggleable__label-arrow\">GaussianNB</label><div class=\"sk-toggleable__content\"><pre>GaussianNB()</pre></div></div></div></div></div>"
      ],
      "text/plain": [
       "GaussianNB()"
      ]
     },
     "execution_count": 75,
     "metadata": {},
     "output_type": "execute_result"
    }
   ],
   "source": [
    "from sklearn.naive_bayes import GaussianNB\n",
    "GNB = GaussianNB()\n",
    "GNB.fit(X_train,y_train)"
   ]
  },
  {
   "cell_type": "code",
   "execution_count": 76,
   "id": "3b9151b4",
   "metadata": {},
   "outputs": [
    {
     "data": {
      "text/plain": [
       "array(['O', 'O', 'S', ..., 'O', 'P', 'S'], dtype='<U1')"
      ]
     },
     "execution_count": 76,
     "metadata": {},
     "output_type": "execute_result"
    }
   ],
   "source": [
    "y_pred_gnb=GNB.predict(X_test)\n",
    "y_pred_gnb"
   ]
  },
  {
   "cell_type": "code",
   "execution_count": 77,
   "id": "d40f70fd",
   "metadata": {},
   "outputs": [
    {
     "data": {
      "text/plain": [
       "0.5666302713539056"
      ]
     },
     "execution_count": 77,
     "metadata": {},
     "output_type": "execute_result"
    }
   ],
   "source": [
    "accuracy_score(y_test,y_pred_gnb)"
   ]
  },
  {
   "cell_type": "code",
   "execution_count": 122,
   "id": "5dbcc024",
   "metadata": {},
   "outputs": [
    {
     "data": {
      "text/plain": [
       "<AxesSubplot:xlabel='label', ylabel='Count'>"
      ]
     },
     "execution_count": 122,
     "metadata": {},
     "output_type": "execute_result"
    },
    {
     "data": {
      "image/png": "[encoded data removed]",
      "text/plain": [
       "<Figure size 640x480 with 1 Axes>"
      ]
     },
     "metadata": {},
     "output_type": "display_data"
    }
   ],
   "source": [
    "sns.histplot(y_test,color='red',alpha=0.5)\n",
    "sns.histplot(y_pred_gnb,color='yellow',alpha=0.5)"
   ]
  },
  {
   "cell_type": "code",
   "execution_count": 78,
   "id": "487bf8cd",
   "metadata": {},
   "outputs": [
    {
     "name": "stdout",
     "output_type": "stream",
     "text": [
      "              precision    recall  f1-score   support\n",
      "\n",
      "           A       0.63      0.11      0.19      4204\n",
      "           B       0.49      0.20      0.29      2656\n",
      "           C       0.78      0.56      0.65      7048\n",
      "           D       0.56      0.40      0.47      3005\n",
      "           E       0.60      0.17      0.26      3402\n",
      "           F       0.26      0.89      0.41       351\n",
      "           G       0.29      0.60      0.39      1737\n",
      "           H       0.43      0.21      0.28      2172\n",
      "           I       0.41      0.80      0.54       350\n",
      "           J       0.54      0.19      0.28      2538\n",
      "           K       0.42      0.10      0.16      1650\n",
      "           L       0.72      0.61      0.66      3459\n",
      "           M       0.38      0.90      0.53      3694\n",
      "           N       0.47      0.53      0.50      5760\n",
      "           O       0.57      0.90      0.70     17569\n",
      "           P       0.51      0.90      0.65      5744\n",
      "           Q       0.51      0.44      0.48      1794\n",
      "           R       0.75      0.28      0.41      3466\n",
      "           S       0.70      0.73      0.71     14381\n",
      "           T       0.81      0.63      0.71      6671\n",
      "           U       0.74      0.19      0.30      8616\n",
      "           V       0.65      0.88      0.75      1230\n",
      "           W       0.63      0.58      0.60      3227\n",
      "           X       0.51      0.42      0.46      1894\n",
      "           Y       0.36      0.63      0.45      3275\n",
      "           Z       0.63      0.26      0.37      1843\n",
      "\n",
      "    accuracy                           0.57    111736\n",
      "   macro avg       0.55      0.50      0.47    111736\n",
      "weighted avg       0.61      0.57      0.54    111736\n",
      "\n"
     ]
    }
   ],
   "source": [
    "print(classification_report(y_test,y_pred_gnb))"
   ]
  },
  {
   "cell_type": "code",
   "execution_count": 80,
   "id": "c07cadb6",
   "metadata": {},
   "outputs": [],
   "source": [
    "model=[(\"Logistic Regression\",accuracy_score(y_test,y_pred_logistic)),(\"KNN Classification\",accuracy_score(y_test,y_pred_knc)),\n",
    "       (\"Decision Tree Classification\",accuracy_score(y_test,y_pred_dt)),(\"GaussianNB Classification\",accuracy_score(y_test,y_pred_gnb)),\n",
    "       (\"Random Forest Classification\",accuracy_score(y_test,y_pred_rfc)),(\"Ada Boost Classification\",accuracy_score(y_test,y_pred_abc))]"
   ]
  },
  {
   "cell_type": "code",
   "execution_count": 81,
   "id": "b284fe52",
   "metadata": {},
   "outputs": [
    {
     "data": {
      "text/html": [
       "<div>\n",
       "<style scoped>\n",
       "    .dataframe tbody tr th:only-of-type {\n",
       "        vertical-align: middle;\n",
       "    }\n",
       "\n",
       "    .dataframe tbody tr th {\n",
       "        vertical-align: top;\n",
       "    }\n",
       "\n",
       "    .dataframe thead th {\n",
       "        text-align: right;\n",
       "    }\n",
       "</style>\n",
       "<table border=\"1\" class=\"dataframe\">\n",
       "  <thead>\n",
       "    <tr style=\"text-align: right;\">\n",
       "      <th></th>\n",
       "      <th>Algorithm</th>\n",
       "      <th>Accuracy_Score</th>\n",
       "    </tr>\n",
       "  </thead>\n",
       "  <tbody>\n",
       "    <tr>\n",
       "      <th>5</th>\n",
       "      <td>Random Forest Classification</td>\n",
       "      <td>0.981564</td>\n",
       "    </tr>\n",
       "    <tr>\n",
       "      <th>2</th>\n",
       "      <td>KNN Classification</td>\n",
       "      <td>0.964935</td>\n",
       "    </tr>\n",
       "    <tr>\n",
       "      <th>3</th>\n",
       "      <td>Decision Tree Classification</td>\n",
       "      <td>0.945165</td>\n",
       "    </tr>\n",
       "    <tr>\n",
       "      <th>1</th>\n",
       "      <td>Logistic Regression</td>\n",
       "      <td>0.851051</td>\n",
       "    </tr>\n",
       "    <tr>\n",
       "      <th>4</th>\n",
       "      <td>GaussianNB Classification</td>\n",
       "      <td>0.566630</td>\n",
       "    </tr>\n",
       "    <tr>\n",
       "      <th>6</th>\n",
       "      <td>Ada Boost Classification</td>\n",
       "      <td>0.530903</td>\n",
       "    </tr>\n",
       "  </tbody>\n",
       "</table>\n",
       "</div>"
      ],
      "text/plain": [
       "                      Algorithm  Accuracy_Score\n",
       "5  Random Forest Classification        0.981564\n",
       "2            KNN Classification        0.964935\n",
       "3  Decision Tree Classification        0.945165\n",
       "1           Logistic Regression        0.851051\n",
       "4     GaussianNB Classification        0.566630\n",
       "6      Ada Boost Classification        0.530903"
      ]
     },
     "execution_count": 81,
     "metadata": {},
     "output_type": "execute_result"
    }
   ],
   "source": [
    "predict=pd.DataFrame(data=model,columns=[\"Algorithm\",\"Accuracy_Score\"],index=[1,2,3,4,5,6])\n",
    "predict.sort_values(by='Accuracy_Score',ascending=False)"
   ]
  },
  {
   "cell_type": "code",
   "execution_count": 103,
   "id": "f59249ad",
   "metadata": {},
   "outputs": [
    {
     "data": {
      "image/png": "[encoded data removed]",
      "text/plain": [
       "<Figure size 1000x300 with 1 Axes>"
      ]
     },
     "metadata": {},
     "output_type": "display_data"
    }
   ],
   "source": [
    "plt.figure(figsize=(10,3))\n",
    "sns.barplot(x=predict['Accuracy_Score'],y=predict['Algorithm'])\n",
    "plt.show()\n"
   ]
  },
  {
   "cell_type": "code",
   "execution_count": null,
   "id": "7f9885bb",
   "metadata": {},
   "outputs": [],
   "source": []
  }
 ],
 "metadata": {
  "kernelspec": {
   "display_name": "Python 3 (ipykernel)",
   "language": "python",
   "name": "python3"
  },
  "language_info": {
   "codemirror_mode": {
    "name": "ipython",
    "version": 3
   },
   "file_extension": ".py",
   "mimetype": "text/x-python",
   "name": "python",
   "nbconvert_exporter": "python",
   "pygments_lexer": "ipython3",
   "version": "3.10.9"
  }
 },
 "nbformat": 4,
 "nbformat_minor": 5
}
